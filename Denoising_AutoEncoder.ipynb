{
  "nbformat": 4,
  "nbformat_minor": 0,
  "metadata": {
    "colab": {
      "name": "Denoising_AutoEncoder.ipynb",
      "provenance": [],
      "collapsed_sections": []
    },
    "kernelspec": {
      "name": "python3",
      "display_name": "Python 3"
    },
    "language_info": {
      "name": "python"
    },
    "accelerator": "GPU"
  },
  "cells": [
    {
      "cell_type": "code",
      "metadata": {
        "id": "emUA0zskPTaW"
      },
      "source": [
        "from tensorflow.keras.layers import Dense, Conv2D, Conv2DTranspose, LeakyReLU, Input, Activation, Flatten, Reshape\n",
        "from tensorflow.keras.models import Model\n",
        "from tensorflow.keras.datasets.mnist import load_data\n",
        "import numpy as np\n",
        "import matplotlib.pyplot as plt\n",
        "from tensorflow.keras.optimizers import Adam\n",
        "from tensorflow.keras.utils import plot_model\n",
        "import matplotlib"
      ],
      "execution_count": 51,
      "outputs": []
    },
    {
      "cell_type": "markdown",
      "metadata": {
        "id": "pZFSFmHZnvjC"
      },
      "source": [
        "## Building the encoder"
      ]
    },
    {
      "cell_type": "code",
      "metadata": {
        "id": "uizjd0wRCsZ2"
      },
      "source": [
        "latent_dim = 20\n",
        "feature_map = 32"
      ],
      "execution_count": 149,
      "outputs": []
    },
    {
      "cell_type": "code",
      "metadata": {
        "id": "QJADGUCfpa8D"
      },
      "source": [
        "encoder_input = Input(shape=(28,28,1))\n",
        "encoder_layer1 = Conv2D(feature_map,(3,3))(encoder_input)\n",
        "encoder_layer2 =  LeakyReLU()(encoder_layer1)\n",
        "encoder_flatten = Flatten()(encoder_layer2)\n",
        "encoder_layer3 = Dense(latent_dim)(encoder_flatten)"
      ],
      "execution_count": 150,
      "outputs": []
    },
    {
      "cell_type": "code",
      "metadata": {
        "id": "Sx4YbwoPqoi6"
      },
      "source": [
        "encoder = Model(encoder_input,encoder_layer3)"
      ],
      "execution_count": 151,
      "outputs": []
    },
    {
      "cell_type": "code",
      "metadata": {
        "colab": {
          "base_uri": "https://localhost:8080/"
        },
        "id": "WTRcak32q1my",
        "outputId": "4bdef2bf-b8f7-46b3-dfda-8fdc5d98b11c"
      },
      "source": [
        "encoder.summary()"
      ],
      "execution_count": 152,
      "outputs": [
        {
          "output_type": "stream",
          "text": [
            "Model: \"model_19\"\n",
            "_________________________________________________________________\n",
            "Layer (type)                 Output Shape              Param #   \n",
            "=================================================================\n",
            "input_15 (InputLayer)        [(None, 28, 28, 1)]       0         \n",
            "_________________________________________________________________\n",
            "conv2d_7 (Conv2D)            (None, 26, 26, 32)        320       \n",
            "_________________________________________________________________\n",
            "leaky_re_lu_14 (LeakyReLU)   (None, 26, 26, 32)        0         \n",
            "_________________________________________________________________\n",
            "flatten_7 (Flatten)          (None, 21632)             0         \n",
            "_________________________________________________________________\n",
            "dense_19 (Dense)             (None, 20)                432660    \n",
            "=================================================================\n",
            "Total params: 432,980\n",
            "Trainable params: 432,980\n",
            "Non-trainable params: 0\n",
            "_________________________________________________________________\n"
          ],
          "name": "stdout"
        }
      ]
    },
    {
      "cell_type": "code",
      "metadata": {
        "colab": {
          "base_uri": "https://localhost:8080/",
          "height": 466
        },
        "id": "c14OWXr5q4Dq",
        "outputId": "2b742402-0df5-4fd6-ec3b-11c133a73913"
      },
      "source": [
        "plot_model(encoder)"
      ],
      "execution_count": 153,
      "outputs": [
        {
          "output_type": "execute_result",
          "data": {
            "image/png": "[encoded data removed]",
            "text/plain": [
              "<IPython.core.display.Image object>"
            ]
          },
          "metadata": {
            "tags": []
          },
          "execution_count": 153
        }
      ]
    },
    {
      "cell_type": "code",
      "metadata": {
        "id": "nwaOl9QKvb1o"
      },
      "source": [
        "from tensorflow.keras import backend as K"
      ],
      "execution_count": 154,
      "outputs": []
    },
    {
      "cell_type": "code",
      "metadata": {
        "id": "Vp1e79sVvc1Q"
      },
      "source": [
        "volumeSize = K.int_shape(encoder_layer2)"
      ],
      "execution_count": 155,
      "outputs": []
    },
    {
      "cell_type": "code",
      "metadata": {
        "colab": {
          "base_uri": "https://localhost:8080/"
        },
        "id": "ZHYaFIkXv1id",
        "outputId": "6da6828f-2952-4608-c29a-f33d3b58fa51"
      },
      "source": [
        "volumeSize[1:] "
      ],
      "execution_count": 156,
      "outputs": [
        {
          "output_type": "execute_result",
          "data": {
            "text/plain": [
              "(26, 26, 32)"
            ]
          },
          "metadata": {
            "tags": []
          },
          "execution_count": 156
        }
      ]
    },
    {
      "cell_type": "markdown",
      "metadata": {
        "id": "BRezUX8Mrmod"
      },
      "source": [
        "## Building the decoder"
      ]
    },
    {
      "cell_type": "code",
      "metadata": {
        "id": "xfxaJsEJrFOP"
      },
      "source": [
        "decoder_input = Input(shape=(latent_dim,))\n",
        "\n",
        "decoder_layer1 = Dense(np.prod(volumeSize[1:]))(decoder_input) #Adding the no of neurons that equals to the no of neurons obtained after flattening\n",
        "decoder_input_Reshaped = Reshape((volumeSize[1],volumeSize[2],volumeSize[3]))(decoder_layer1) #Resizing into a matrix for the next layer\n",
        "\n",
        "decoder_layer_cnn = Conv2DTranspose(feature_map,(3,3))(decoder_input_Reshaped)\n",
        "decoder_layer_actv = LeakyReLU()(decoder_layer_cnn)\n",
        "decoder_layer_output = Dense(1)(decoder_layer_actv) #since one depth channel"
      ],
      "execution_count": 157,
      "outputs": []
    },
    {
      "cell_type": "code",
      "metadata": {
        "id": "RqD8sZc00gTZ"
      },
      "source": [
        "decoder = Model(decoder_input,decoder_layer_output)"
      ],
      "execution_count": 158,
      "outputs": []
    },
    {
      "cell_type": "code",
      "metadata": {
        "colab": {
          "base_uri": "https://localhost:8080/"
        },
        "id": "iJi0FG1l0ndj",
        "outputId": "e34f2003-738c-41ba-adc5-1c27619f35ca"
      },
      "source": [
        "decoder.summary()"
      ],
      "execution_count": 159,
      "outputs": [
        {
          "output_type": "stream",
          "text": [
            "Model: \"model_20\"\n",
            "_________________________________________________________________\n",
            "Layer (type)                 Output Shape              Param #   \n",
            "=================================================================\n",
            "input_16 (InputLayer)        [(None, 20)]              0         \n",
            "_________________________________________________________________\n",
            "dense_20 (Dense)             (None, 21632)             454272    \n",
            "_________________________________________________________________\n",
            "reshape_7 (Reshape)          (None, 26, 26, 32)        0         \n",
            "_________________________________________________________________\n",
            "conv2d_transpose_8 (Conv2DTr (None, 28, 28, 32)        9248      \n",
            "_________________________________________________________________\n",
            "leaky_re_lu_15 (LeakyReLU)   (None, 28, 28, 32)        0         \n",
            "_________________________________________________________________\n",
            "dense_21 (Dense)             (None, 28, 28, 1)         33        \n",
            "=================================================================\n",
            "Total params: 463,553\n",
            "Trainable params: 463,553\n",
            "Non-trainable params: 0\n",
            "_________________________________________________________________\n"
          ],
          "name": "stdout"
        }
      ]
    },
    {
      "cell_type": "code",
      "metadata": {
        "colab": {
          "base_uri": "https://localhost:8080/",
          "height": 564
        },
        "id": "WGFgrL1S0o59",
        "outputId": "7e1356e0-be0d-4928-9696-c6f044dce347"
      },
      "source": [
        "plot_model(decoder)"
      ],
      "execution_count": 160,
      "outputs": [
        {
          "output_type": "execute_result",
          "data": {
            "image/png": "[encoded data removed]",
            "text/plain": [
              "<IPython.core.display.Image object>"
            ]
          },
          "metadata": {
            "tags": []
          },
          "execution_count": 160
        }
      ]
    },
    {
      "cell_type": "code",
      "metadata": {
        "id": "uvODT3PN8ZyD"
      },
      "source": [
        "autoencoder = Model(encoder_input,decoder(encoder(encoder_input)))"
      ],
      "execution_count": 161,
      "outputs": []
    },
    {
      "cell_type": "code",
      "metadata": {
        "colab": {
          "base_uri": "https://localhost:8080/"
        },
        "id": "Otw-Cj5j8z7-",
        "outputId": "eb5fd90d-74e8-40a4-9a76-03af75f9cc05"
      },
      "source": [
        "autoencoder.summary()"
      ],
      "execution_count": 162,
      "outputs": [
        {
          "output_type": "stream",
          "text": [
            "Model: \"model_21\"\n",
            "_________________________________________________________________\n",
            "Layer (type)                 Output Shape              Param #   \n",
            "=================================================================\n",
            "input_15 (InputLayer)        [(None, 28, 28, 1)]       0         \n",
            "_________________________________________________________________\n",
            "model_19 (Functional)        (None, 20)                432980    \n",
            "_________________________________________________________________\n",
            "model_20 (Functional)        (None, 28, 28, 1)         463553    \n",
            "=================================================================\n",
            "Total params: 896,533\n",
            "Trainable params: 896,533\n",
            "Non-trainable params: 0\n",
            "_________________________________________________________________\n"
          ],
          "name": "stdout"
        }
      ]
    },
    {
      "cell_type": "markdown",
      "metadata": {
        "id": "snrPbF028TI1"
      },
      "source": [
        "## Preparing Data with Noise"
      ]
    },
    {
      "cell_type": "code",
      "metadata": {
        "id": "G1ByZoqt0_3p"
      },
      "source": [
        "(x_train_orig,y_train),(x_test_orig,y_test) = load_data()"
      ],
      "execution_count": 163,
      "outputs": []
    },
    {
      "cell_type": "code",
      "metadata": {
        "id": "mx-ApB7-9hYi"
      },
      "source": [
        "#Normalizing\n",
        "x_train_orig = x_train_orig.astype('float32')/255\n",
        "x_test_orig = x_test_orig.astype('float32')/255"
      ],
      "execution_count": 164,
      "outputs": []
    },
    {
      "cell_type": "code",
      "metadata": {
        "id": "_LBL4NDM9spr"
      },
      "source": [
        "#Adding noise by sampling from a random normal distribution\n",
        "trainNoise = np.random.normal(loc=0.5, scale=0.5, size=x_train_orig.shape)\n",
        "testNoise = np.random.normal(loc=0.5, scale=0.5, size=x_test_orig.shape)\n",
        "x_train = np.clip(x_train_orig + trainNoise, 0, 1)\n",
        "x_test = np.clip(x_test_orig + testNoise, 0, 1)"
      ],
      "execution_count": 165,
      "outputs": []
    },
    {
      "cell_type": "code",
      "metadata": {
        "colab": {
          "base_uri": "https://localhost:8080/",
          "height": 269
        },
        "id": "Ziez_CiqCDaA",
        "outputId": "4e190e54-ead0-4216-a43d-582f847c6e05"
      },
      "source": [
        "#Noisy input\n",
        "num_images_to_show = 5\n",
        "for im_ind in range(num_images_to_show):\n",
        "    plot_ind = im_ind*2 + 1\n",
        "    rand_ind = np.random.randint(low=0, high=x_train.shape[0])    \n",
        "    matplotlib.pyplot.subplot(num_images_to_show, 2, plot_ind)\n",
        "    matplotlib.pyplot.imshow(x_train[rand_ind, :, :], cmap=\"gray\")\n"
      ],
      "execution_count": 166,
      "outputs": [
        {
          "output_type": "display_data",
          "data": {
            "image/png": "[encoded data removed]",
            "text/plain": [
              "<Figure size 432x288 with 5 Axes>"
            ]
          },
          "metadata": {
            "tags": [],
            "needs_background": "light"
          }
        }
      ]
    },
    {
      "cell_type": "code",
      "metadata": {
        "id": "gSxSTcFT--Bi"
      },
      "source": [
        "#Adding another dimension\n",
        "x_train = np.expand_dims(x_train,axis=-1)\n",
        "x_test = np.expand_dims(x_test,axis=-1)"
      ],
      "execution_count": 167,
      "outputs": []
    },
    {
      "cell_type": "code",
      "metadata": {
        "colab": {
          "base_uri": "https://localhost:8080/"
        },
        "id": "YES94c5o_bU3",
        "outputId": "2fefc5dd-b9ce-4259-8e23-9a20b04b2ba8"
      },
      "source": [
        "x_train.shape"
      ],
      "execution_count": 168,
      "outputs": [
        {
          "output_type": "execute_result",
          "data": {
            "text/plain": [
              "(60000, 28, 28, 1)"
            ]
          },
          "metadata": {
            "tags": []
          },
          "execution_count": 168
        }
      ]
    },
    {
      "cell_type": "code",
      "metadata": {
        "id": "8sP1cG90Iv30"
      },
      "source": [
        "#for the labels\n",
        "x_train_label = np.expand_dims(x_train_orig,axis=-1)\n",
        "x_test_label = np.expand_dims(x_test_orig,axis =-1)"
      ],
      "execution_count": 169,
      "outputs": []
    },
    {
      "cell_type": "code",
      "metadata": {
        "colab": {
          "base_uri": "https://localhost:8080/"
        },
        "id": "NIvVGgHnJb7B",
        "outputId": "ca7d308c-49df-4ea9-961e-c3ed53941501"
      },
      "source": [
        "x_train_label.shape"
      ],
      "execution_count": 170,
      "outputs": [
        {
          "output_type": "execute_result",
          "data": {
            "text/plain": [
              "(60000, 28, 28, 1)"
            ]
          },
          "metadata": {
            "tags": []
          },
          "execution_count": 170
        }
      ]
    },
    {
      "cell_type": "markdown",
      "metadata": {
        "id": "TEOZJdN0Ec6k"
      },
      "source": [
        "## Compiling"
      ]
    },
    {
      "cell_type": "code",
      "metadata": {
        "id": "1kyyGihhEfck"
      },
      "source": [
        "autoencoder.compile(loss='mse',optimizer=Adam(learning_rate=0.0005))"
      ],
      "execution_count": 173,
      "outputs": []
    },
    {
      "cell_type": "markdown",
      "metadata": {
        "id": "_XLesoqq9Fv4"
      },
      "source": [
        "## Training"
      ]
    },
    {
      "cell_type": "code",
      "metadata": {
        "colab": {
          "base_uri": "https://localhost:8080/"
        },
        "id": "JgSSLHac9RM8",
        "outputId": "5c434ddf-5478-46ba-acca-755a702402f0"
      },
      "source": [
        "autoencoder.fit(x_train,x_train_label,batch_size = 256, epochs = 20 , validation_data=(x_test,x_test_label))"
      ],
      "execution_count": 174,
      "outputs": [
        {
          "output_type": "stream",
          "text": [
            "Epoch 1/20\n",
            "235/235 [==============================] - 4s 14ms/step - loss: 0.0258 - val_loss: 0.0247\n",
            "Epoch 2/20\n",
            "235/235 [==============================] - 3s 14ms/step - loss: 0.0243 - val_loss: 0.0236\n",
            "Epoch 3/20\n",
            "235/235 [==============================] - 3s 14ms/step - loss: 0.0232 - val_loss: 0.0229\n",
            "Epoch 4/20\n",
            "235/235 [==============================] - 3s 14ms/step - loss: 0.0223 - val_loss: 0.0219\n",
            "Epoch 5/20\n",
            "235/235 [==============================] - 3s 14ms/step - loss: 0.0216 - val_loss: 0.0215\n",
            "Epoch 6/20\n",
            "235/235 [==============================] - 3s 14ms/step - loss: 0.0211 - val_loss: 0.0211\n",
            "Epoch 7/20\n",
            "235/235 [==============================] - 3s 14ms/step - loss: 0.0206 - val_loss: 0.0207\n",
            "Epoch 8/20\n",
            "235/235 [==============================] - 3s 14ms/step - loss: 0.0202 - val_loss: 0.0204\n",
            "Epoch 9/20\n",
            "235/235 [==============================] - 3s 14ms/step - loss: 0.0199 - val_loss: 0.0202\n",
            "Epoch 10/20\n",
            "235/235 [==============================] - 3s 14ms/step - loss: 0.0195 - val_loss: 0.0200\n",
            "Epoch 11/20\n",
            "235/235 [==============================] - 3s 14ms/step - loss: 0.0193 - val_loss: 0.0199\n",
            "Epoch 12/20\n",
            "235/235 [==============================] - 3s 14ms/step - loss: 0.0190 - val_loss: 0.0198\n",
            "Epoch 13/20\n",
            "235/235 [==============================] - 3s 14ms/step - loss: 0.0188 - val_loss: 0.0196\n",
            "Epoch 14/20\n",
            "235/235 [==============================] - 3s 14ms/step - loss: 0.0186 - val_loss: 0.0195\n",
            "Epoch 15/20\n",
            "235/235 [==============================] - 3s 14ms/step - loss: 0.0184 - val_loss: 0.0194\n",
            "Epoch 16/20\n",
            "235/235 [==============================] - 3s 14ms/step - loss: 0.0182 - val_loss: 0.0192\n",
            "Epoch 17/20\n",
            "235/235 [==============================] - 3s 14ms/step - loss: 0.0180 - val_loss: 0.0192\n",
            "Epoch 18/20\n",
            "235/235 [==============================] - 3s 14ms/step - loss: 0.0179 - val_loss: 0.0191\n",
            "Epoch 19/20\n",
            "235/235 [==============================] - 3s 14ms/step - loss: 0.0177 - val_loss: 0.0191\n",
            "Epoch 20/20\n",
            "235/235 [==============================] - 3s 14ms/step - loss: 0.0176 - val_loss: 0.0190\n"
          ],
          "name": "stdout"
        },
        {
          "output_type": "execute_result",
          "data": {
            "text/plain": [
              "<tensorflow.python.keras.callbacks.History at 0x7f4fc44fe490>"
            ]
          },
          "metadata": {
            "tags": []
          },
          "execution_count": 174
        }
      ]
    },
    {
      "cell_type": "markdown",
      "metadata": {
        "id": "4MfOdvJjALPE"
      },
      "source": [
        "## Predicting"
      ]
    },
    {
      "cell_type": "code",
      "metadata": {
        "id": "bbb1ymUDARgK"
      },
      "source": [
        "encoder_prediction = encoder.predict(x_train)"
      ],
      "execution_count": 175,
      "outputs": []
    },
    {
      "cell_type": "code",
      "metadata": {
        "id": "xMsIY_ZQAcyY"
      },
      "source": [
        "decoder_prediction = decoder.predict(encoder_prediction)"
      ],
      "execution_count": 176,
      "outputs": []
    },
    {
      "cell_type": "code",
      "metadata": {
        "id": "Pt1kpG3gAgqA"
      },
      "source": [
        "decoder_images =  decoder_prediction.reshape((decoder_prediction.shape[0],28,28))"
      ],
      "execution_count": 177,
      "outputs": []
    },
    {
      "cell_type": "code",
      "metadata": {
        "colab": {
          "base_uri": "https://localhost:8080/",
          "height": 269
        },
        "id": "FFaBE_9tAGRk",
        "outputId": "1a87e4b3-cb1d-433a-e891-9211f7bff9aa"
      },
      "source": [
        "#Plotting the output\n",
        "num_images_to_show = 5\n",
        "for im_ind in range(num_images_to_show):\n",
        "    plot_ind = im_ind*2 + 1\n",
        "    rand_ind = np.random.randint(low=0, high=x_train.shape[0])\n",
        "    matplotlib.pyplot.subplot(num_images_to_show, 2, plot_ind)\n",
        "    matplotlib.pyplot.imshow(x_train_orig[rand_ind, :, :], cmap=\"gray\")\n",
        "    matplotlib.pyplot.subplot(num_images_to_show, 2, plot_ind+1)\n",
        "    matplotlib.pyplot.imshow(decoder_images[rand_ind, :, :], cmap=\"gray\")"
      ],
      "execution_count": 178,
      "outputs": [
        {
          "output_type": "display_data",
          "data": {
            "image/png": "[encoded data removed]",
            "text/plain": [
              "<Figure size 432x288 with 10 Axes>"
            ]
          },
          "metadata": {
            "tags": [],
            "needs_background": "light"
          }
        }
      ]
    }
  ]
}