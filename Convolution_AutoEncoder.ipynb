{
  "nbformat": 4,
  "nbformat_minor": 0,
  "metadata": {
    "colab": {
      "name": "Convolution_AutoEncoder.ipynb",
      "provenance": [],
      "collapsed_sections": []
    },
    "kernelspec": {
      "name": "python3",
      "display_name": "Python 3"
    },
    "language_info": {
      "name": "python"
    },
    "accelerator": "GPU"
  },
  "cells": [
    {
      "cell_type": "code",
      "metadata": {
        "id": "7XmXo3zqq4cW"
      },
      "source": [
        "from tensorflow.keras.layers import Input, Dense, LeakyReLU, Conv2D, Conv2DTranspose\n",
        "from tensorflow.keras.models import Model\n",
        "from tensorflow.keras.utils import plot_model\n",
        "from tensorflow.keras.optimizers import Adam #since we want to modify our leaning rate for our optimizer so functional API call"
      ],
      "execution_count": 1,
      "outputs": []
    },
    {
      "cell_type": "markdown",
      "metadata": {
        "id": "jCr_8lSsq6g3"
      },
      "source": [
        "#ENCODER MODEL"
      ]
    },
    {
      "cell_type": "code",
      "metadata": {
        "id": "Y-vRe1p-rWH9"
      },
      "source": [
        "# The input is (28,28) instead of (784) because we are using Conv layers \n",
        "encoder_input = Input(shape=(28,28,1), name=\"encoder_input\")"
      ],
      "execution_count": 4,
      "outputs": []
    },
    {
      "cell_type": "code",
      "metadata": {
        "id": "evDbQl9DrliA"
      },
      "source": [
        "#The encoder\n",
        "encoder_conv_layer1 = Conv2D(32,(3,3),name=\"encoder_conv\")(encoder_input)\n",
        "encoder_activ_layer1 = LeakyReLU(name=\"encoder_leakyrelu_1\")(encoder_conv_layer1)\n",
        "\n",
        "encoder_dense_layer2 = Dense(units=10, name=\"encoder_dense_2\")(encoder_activ_layer1)\n",
        "encoder_output = LeakyReLU(name=\"encoder_output\")(encoder_dense_layer2)"
      ],
      "execution_count": 5,
      "outputs": []
    },
    {
      "cell_type": "code",
      "metadata": {
        "id": "XMar6iq5sB5f"
      },
      "source": [
        "encoder = Model(encoder_input, encoder_output, name=\"encoder_model\")"
      ],
      "execution_count": 6,
      "outputs": []
    },
    {
      "cell_type": "code",
      "metadata": {
        "colab": {
          "base_uri": "https://localhost:8080/"
        },
        "id": "tranvrZ1sVQl",
        "outputId": "08cc83bf-104a-4723-bfb9-737b219acfa5"
      },
      "source": [
        "#The parameters in the encoder model\n",
        "encoder.summary()"
      ],
      "execution_count": 7,
      "outputs": [
        {
          "output_type": "stream",
          "text": [
            "Model: \"encoder_model\"\n",
            "_________________________________________________________________\n",
            "Layer (type)                 Output Shape              Param #   \n",
            "=================================================================\n",
            "encoder_input (InputLayer)   [(None, 28, 28, 1)]       0         \n",
            "_________________________________________________________________\n",
            "encoder_conv (Conv2D)        (None, 26, 26, 32)        320       \n",
            "_________________________________________________________________\n",
            "encoder_leakyrelu_1 (LeakyRe (None, 26, 26, 32)        0         \n",
            "_________________________________________________________________\n",
            "encoder_dense_2 (Dense)      (None, 26, 26, 10)        330       \n",
            "_________________________________________________________________\n",
            "encoder_output (LeakyReLU)   (None, 26, 26, 10)        0         \n",
            "=================================================================\n",
            "Total params: 650\n",
            "Trainable params: 650\n",
            "Non-trainable params: 0\n",
            "_________________________________________________________________\n"
          ],
          "name": "stdout"
        }
      ]
    },
    {
      "cell_type": "code",
      "metadata": {
        "colab": {
          "base_uri": "https://localhost:8080/",
          "height": 465
        },
        "id": "MC2TVQLrskuj",
        "outputId": "e47d8047-0ff6-46ce-86ea-6b35811fd6c7"
      },
      "source": [
        "#Model structure\n",
        "plot_model(encoder)"
      ],
      "execution_count": 8,
      "outputs": [
        {
          "output_type": "execute_result",
          "data": {
            "image/png": "[encoded data removed]",
            "text/plain": [
              "<IPython.core.display.Image object>"
            ]
          },
          "metadata": {
            "tags": []
          },
          "execution_count": 8
        }
      ]
    },
    {
      "cell_type": "markdown",
      "metadata": {
        "id": "12V9lDEfs68r"
      },
      "source": [
        "#DECODER MODEL"
      ]
    },
    {
      "cell_type": "code",
      "metadata": {
        "id": "SGIbZHt-tJzx"
      },
      "source": [
        "#Decoder Input\n",
        "decoder_input = Input(shape=(26,26,10),name=\"decoder_input\")"
      ],
      "execution_count": 13,
      "outputs": []
    },
    {
      "cell_type": "code",
      "metadata": {
        "id": "bY8gPXJos6oh"
      },
      "source": [
        "#The decoder\n",
        "decoder_conv_layer1 = Conv2DTranspose(32,(3,3), name=\"decoder_convtranspose\")(decoder_input)\n",
        "decoder_activ_layer1 = LeakyReLU(name=\"decoder_leakyrelu_1\")(decoder_conv_layer1)\n",
        "\n",
        "decoder_dense_layer2 = Dense(units=1, name=\"decoder_dense_2\")(decoder_activ_layer1) #We want to get the orginal vector back\n",
        "decoder_output = LeakyReLU(name=\"decoder_output\")(decoder_dense_layer2)"
      ],
      "execution_count": 14,
      "outputs": []
    },
    {
      "cell_type": "code",
      "metadata": {
        "id": "sCllREI8uCDV"
      },
      "source": [
        "decoder = Model(decoder_input,decoder_output,name=\"Decoder\")"
      ],
      "execution_count": 15,
      "outputs": []
    },
    {
      "cell_type": "code",
      "metadata": {
        "colab": {
          "base_uri": "https://localhost:8080/"
        },
        "id": "mG4_JTzysoE7",
        "outputId": "37d1203b-b9a8-4809-8d3e-36245fabeea9"
      },
      "source": [
        "#The decoder model parameters\n",
        "decoder.summary()"
      ],
      "execution_count": 16,
      "outputs": [
        {
          "output_type": "stream",
          "text": [
            "Model: \"Decoder\"\n",
            "_________________________________________________________________\n",
            "Layer (type)                 Output Shape              Param #   \n",
            "=================================================================\n",
            "decoder_input (InputLayer)   [(None, 26, 26, 10)]      0         \n",
            "_________________________________________________________________\n",
            "decoder_convtranspose (Conv2 (None, 28, 28, 32)        2912      \n",
            "_________________________________________________________________\n",
            "decoder_leakyrelu_1 (LeakyRe (None, 28, 28, 32)        0         \n",
            "_________________________________________________________________\n",
            "decoder_dense_2 (Dense)      (None, 28, 28, 1)         33        \n",
            "_________________________________________________________________\n",
            "decoder_output (LeakyReLU)   (None, 28, 28, 1)         0         \n",
            "=================================================================\n",
            "Total params: 2,945\n",
            "Trainable params: 2,945\n",
            "Non-trainable params: 0\n",
            "_________________________________________________________________\n"
          ],
          "name": "stdout"
        }
      ]
    },
    {
      "cell_type": "code",
      "metadata": {
        "colab": {
          "base_uri": "https://localhost:8080/",
          "height": 465
        },
        "id": "XEClhaN1uNd7",
        "outputId": "65efa5a0-1195-4f5b-98cc-cb244afe4350"
      },
      "source": [
        "#Decoder model\n",
        "plot_model(decoder)"
      ],
      "execution_count": 17,
      "outputs": [
        {
          "output_type": "execute_result",
          "data": {
            "image/png": "[encoded data removed]",
            "text/plain": [
              "<IPython.core.display.Image object>"
            ]
          },
          "metadata": {
            "tags": []
          },
          "execution_count": 17
        }
      ]
    },
    {
      "cell_type": "markdown",
      "metadata": {
        "id": "lEbAkzSguep6"
      },
      "source": [
        "#The Complete AutoEncoder Model"
      ]
    },
    {
      "cell_type": "code",
      "metadata": {
        "id": "TFK-t0kfuSuE"
      },
      "source": [
        "AutoEncoder_output = decoder(encoder(encoder_input))"
      ],
      "execution_count": 18,
      "outputs": []
    },
    {
      "cell_type": "code",
      "metadata": {
        "id": "tDICIqJFvSm3"
      },
      "source": [
        "#The autoencoder model\n",
        "AutoEncoder = Model(encoder_input,AutoEncoder_output,name=\"Autoencoder\")"
      ],
      "execution_count": 19,
      "outputs": []
    },
    {
      "cell_type": "code",
      "metadata": {
        "colab": {
          "base_uri": "https://localhost:8080/"
        },
        "id": "TumywvdDvevU",
        "outputId": "45316518-4e06-4c26-b18d-dac377cca9f5"
      },
      "source": [
        "#Autoencoder parameters\n",
        "AutoEncoder.summary()"
      ],
      "execution_count": 20,
      "outputs": [
        {
          "output_type": "stream",
          "text": [
            "Model: \"Autoencoder\"\n",
            "_________________________________________________________________\n",
            "Layer (type)                 Output Shape              Param #   \n",
            "=================================================================\n",
            "encoder_input (InputLayer)   [(None, 28, 28, 1)]       0         \n",
            "_________________________________________________________________\n",
            "encoder_model (Functional)   (None, 26, 26, 10)        650       \n",
            "_________________________________________________________________\n",
            "Decoder (Functional)         (None, 28, 28, 1)         2945      \n",
            "=================================================================\n",
            "Total params: 3,595\n",
            "Trainable params: 3,595\n",
            "Non-trainable params: 0\n",
            "_________________________________________________________________\n"
          ],
          "name": "stdout"
        }
      ]
    },
    {
      "cell_type": "code",
      "metadata": {
        "colab": {
          "base_uri": "https://localhost:8080/",
          "height": 272
        },
        "id": "1u8A8Zn9vji9",
        "outputId": "f1e8338a-b69c-4599-a20c-700879b3d191"
      },
      "source": [
        "#Autoencoder layers\n",
        "plot_model(AutoEncoder)"
      ],
      "execution_count": 21,
      "outputs": [
        {
          "output_type": "execute_result",
          "data": {
            "image/png": "[encoded data removed]",
            "text/plain": [
              "<IPython.core.display.Image object>"
            ]
          },
          "metadata": {
            "tags": []
          },
          "execution_count": 21
        }
      ]
    },
    {
      "cell_type": "markdown",
      "metadata": {
        "id": "wsMj21vRwB8Z"
      },
      "source": [
        "### Compiling the autoencoder model"
      ]
    },
    {
      "cell_type": "code",
      "metadata": {
        "id": "ZWWxf8x4vs_6"
      },
      "source": [
        "AutoEncoder.compile(optimizer=Adam(learning_rate=0.0005),loss='mse')"
      ],
      "execution_count": 22,
      "outputs": []
    },
    {
      "cell_type": "markdown",
      "metadata": {
        "id": "tShj_K1awrDO"
      },
      "source": [
        "# Loading the data"
      ]
    },
    {
      "cell_type": "code",
      "metadata": {
        "id": "41q2OIZywi9w"
      },
      "source": [
        "from tensorflow.keras.datasets.mnist import load_data #we used the mnist dataset\n",
        "import numpy as np"
      ],
      "execution_count": 23,
      "outputs": []
    },
    {
      "cell_type": "code",
      "metadata": {
        "id": "5DjMI9XMxFQc",
        "colab": {
          "base_uri": "https://localhost:8080/"
        },
        "outputId": "d11708a0-531f-46aa-b921-098ee21c5f89"
      },
      "source": [
        "(x_train_orig,y_train),(x_test_orig,y_test) = load_data() #downloading the data"
      ],
      "execution_count": 24,
      "outputs": [
        {
          "output_type": "stream",
          "text": [
            "Downloading data from https://storage.googleapis.com/tensorflow/tf-keras-datasets/mnist.npz\n",
            "11493376/11490434 [==============================] - 0s 0us/step\n"
          ],
          "name": "stdout"
        }
      ]
    },
    {
      "cell_type": "code",
      "metadata": {
        "colab": {
          "base_uri": "https://localhost:8080/"
        },
        "id": "pLuJGUDJxNO0",
        "outputId": "2d1461ad-da9b-478f-8070-2281818aebb1"
      },
      "source": [
        "x_train_orig.shape, x_test_orig.shape"
      ],
      "execution_count": 25,
      "outputs": [
        {
          "output_type": "execute_result",
          "data": {
            "text/plain": [
              "((60000, 28, 28), (10000, 28, 28))"
            ]
          },
          "metadata": {
            "tags": []
          },
          "execution_count": 25
        }
      ]
    },
    {
      "cell_type": "code",
      "metadata": {
        "id": "wJVR2q7wxTLL"
      },
      "source": [
        "#Normalising the pixels of the images\n",
        "x_train_orig = x_train_orig.astype('float32')/255.0\n",
        "x_test_orig = x_test_orig.astype('float32')/255.0"
      ],
      "execution_count": 26,
      "outputs": []
    },
    {
      "cell_type": "code",
      "metadata": {
        "id": "OoJL850-xiaK"
      },
      "source": [
        "#Since the images are in a matrix so converting them into a vector\n",
        "x_train = x_train_orig.reshape((x_train_orig.shape[0],28,28,1))\n",
        "x_test = x_test_orig.reshape((x_test_orig.shape[0],28,28,1))"
      ],
      "execution_count": 27,
      "outputs": []
    },
    {
      "cell_type": "code",
      "metadata": {
        "colab": {
          "base_uri": "https://localhost:8080/"
        },
        "id": "SBQjyEVZx0f7",
        "outputId": "021efd58-8516-4f1f-acfe-6fb4b498c97a"
      },
      "source": [
        "#new shapes\n",
        "x_train.shape, x_test.shape"
      ],
      "execution_count": 28,
      "outputs": [
        {
          "output_type": "execute_result",
          "data": {
            "text/plain": [
              "((60000, 28, 28, 1), (10000, 28, 28, 1))"
            ]
          },
          "metadata": {
            "tags": []
          },
          "execution_count": 28
        }
      ]
    },
    {
      "cell_type": "code",
      "metadata": {
        "colab": {
          "base_uri": "https://localhost:8080/"
        },
        "id": "6Y0-8pyByHBe",
        "outputId": "6fb396e5-ce4c-4021-89cb-a2beabd427ba"
      },
      "source": [
        "#Now that our data is in vector order, we provide it as an input and train our model\n",
        "\n",
        "#The labels y have not been given because we don't need that\n",
        "AutoEncoder.fit(x_train,x_train,batch_size=256,epochs=20,shuffle=True,validation_data=(x_test,x_test),verbose = 1)"
      ],
      "execution_count": 29,
      "outputs": [
        {
          "output_type": "stream",
          "text": [
            "Epoch 1/20\n",
            "235/235 [==============================] - 35s 25ms/step - loss: 0.0106 - val_loss: 8.9230e-04\n",
            "Epoch 2/20\n",
            "235/235 [==============================] - 5s 23ms/step - loss: 3.9247e-04 - val_loss: 1.6438e-04\n",
            "Epoch 3/20\n",
            "235/235 [==============================] - 5s 23ms/step - loss: 1.2240e-04 - val_loss: 9.3285e-05\n",
            "Epoch 4/20\n",
            "235/235 [==============================] - 5s 23ms/step - loss: 8.1611e-05 - val_loss: 6.8493e-05\n",
            "Epoch 5/20\n",
            "235/235 [==============================] - 5s 23ms/step - loss: 6.2239e-05 - val_loss: 5.3838e-05\n",
            "Epoch 6/20\n",
            "235/235 [==============================] - 5s 23ms/step - loss: 4.9864e-05 - val_loss: 4.3878e-05\n",
            "Epoch 7/20\n",
            "235/235 [==============================] - 5s 23ms/step - loss: 4.0988e-05 - val_loss: 3.6405e-05\n",
            "Epoch 8/20\n",
            "235/235 [==============================] - 6s 24ms/step - loss: 3.4284e-05 - val_loss: 3.0833e-05\n",
            "Epoch 9/20\n",
            "235/235 [==============================] - 5s 23ms/step - loss: 2.9309e-05 - val_loss: 2.6725e-05\n",
            "Epoch 10/20\n",
            "235/235 [==============================] - 5s 23ms/step - loss: 2.5546e-05 - val_loss: 2.3580e-05\n",
            "Epoch 11/20\n",
            "235/235 [==============================] - 5s 23ms/step - loss: 2.2589e-05 - val_loss: 2.1018e-05\n",
            "Epoch 12/20\n",
            "235/235 [==============================] - 5s 23ms/step - loss: 2.0223e-05 - val_loss: 1.8999e-05\n",
            "Epoch 13/20\n",
            "235/235 [==============================] - 5s 23ms/step - loss: 1.8364e-05 - val_loss: 1.7824e-05\n",
            "Epoch 14/20\n",
            "235/235 [==============================] - 5s 23ms/step - loss: 1.7006e-05 - val_loss: 1.6427e-05\n",
            "Epoch 15/20\n",
            "235/235 [==============================] - 5s 23ms/step - loss: 1.5801e-05 - val_loss: 1.5744e-05\n",
            "Epoch 16/20\n",
            "235/235 [==============================] - 5s 23ms/step - loss: 1.4812e-05 - val_loss: 1.9012e-05\n",
            "Epoch 17/20\n",
            "235/235 [==============================] - 5s 23ms/step - loss: 1.4138e-05 - val_loss: 1.4356e-05\n",
            "Epoch 18/20\n",
            "235/235 [==============================] - 5s 23ms/step - loss: 1.3426e-05 - val_loss: 1.4625e-05\n",
            "Epoch 19/20\n",
            "235/235 [==============================] - 5s 23ms/step - loss: 1.2871e-05 - val_loss: 1.2246e-05\n",
            "Epoch 20/20\n",
            "235/235 [==============================] - 6s 23ms/step - loss: 1.2083e-05 - val_loss: 1.1720e-05\n"
          ],
          "name": "stdout"
        },
        {
          "output_type": "execute_result",
          "data": {
            "text/plain": [
              "<tensorflow.python.keras.callbacks.History at 0x7f77501ff350>"
            ]
          },
          "metadata": {
            "tags": []
          },
          "execution_count": 29
        }
      ]
    },
    {
      "cell_type": "markdown",
      "metadata": {
        "id": "wb4sNGFs29uY"
      },
      "source": [
        "## Predicting using Encoder and Decoder independently"
      ]
    },
    {
      "cell_type": "code",
      "metadata": {
        "id": "wlbsPXMTzjln"
      },
      "source": [
        "#Now we predict first using the encoder model to get a vector of 10 latent features\n",
        "encoder_prediction = encoder.predict(x_train)"
      ],
      "execution_count": 30,
      "outputs": []
    },
    {
      "cell_type": "code",
      "metadata": {
        "id": "nQAGZMWXz1X2"
      },
      "source": [
        "#Predciting the decoder output using the output of the encoder which generates an image along with the depth channel of 1  \n",
        "decoder_prediction = decoder.predict(encoder_prediction)"
      ],
      "execution_count": 31,
      "outputs": []
    },
    {
      "cell_type": "code",
      "metadata": {
        "id": "0AVxzErv0MzM"
      },
      "source": [
        "#Converting the image vector to a matrix\n",
        "decoder_images =  decoder_prediction.reshape((decoder_prediction.shape[0],28,28))"
      ],
      "execution_count": 32,
      "outputs": []
    },
    {
      "cell_type": "code",
      "metadata": {
        "id": "AyjS0HGM02ES"
      },
      "source": [
        "import matplotlib"
      ],
      "execution_count": 35,
      "outputs": []
    },
    {
      "cell_type": "code",
      "metadata": {
        "colab": {
          "base_uri": "https://localhost:8080/",
          "height": 268
        },
        "id": "ynw37X0-0sGp",
        "outputId": "432d9708-645f-41de-db22-6d25e1c8beb1"
      },
      "source": [
        "#Plotting the output\n",
        "num_images_to_show = 5\n",
        "for im_ind in range(num_images_to_show):\n",
        "    plot_ind = im_ind*2 + 1\n",
        "    rand_ind = np.random.randint(low=0, high=x_train.shape[0])\n",
        "    matplotlib.pyplot.subplot(num_images_to_show, 2, plot_ind)\n",
        "    matplotlib.pyplot.imshow(x_train_orig[rand_ind, :, :], cmap=\"gray\")\n",
        "    matplotlib.pyplot.subplot(num_images_to_show, 2, plot_ind+1)\n",
        "    matplotlib.pyplot.imshow(decoder_images[rand_ind, :, :], cmap=\"gray\")"
      ],
      "execution_count": 36,
      "outputs": [
        {
          "output_type": "display_data",
          "data": {
            "image/png": "[encoded data removed]",
            "text/plain": [
              "<Figure size 432x288 with 10 Axes>"
            ]
          },
          "metadata": {
            "tags": [],
            "needs_background": "light"
          }
        }
      ]
    },
    {
      "cell_type": "markdown",
      "metadata": {
        "id": "P5bI-Mcj2c-F"
      },
      "source": [
        "### Note: The quality of images are much better than Vanilla AE because we used CNN and also used more latent features"
      ]
    },
    {
      "cell_type": "markdown",
      "metadata": {
        "id": "JHdM-Jr3243v"
      },
      "source": [
        "## Predicting using complete Model"
      ]
    },
    {
      "cell_type": "code",
      "metadata": {
        "id": "pJK6WT0UyxnH"
      },
      "source": [
        "#Predicitng using the Overall Model\n",
        "#Since we want to generate the images themselevs, so we predict on x_train again\n",
        "autoencoder_output_vector = AutoEncoder.predict(x_train)"
      ],
      "execution_count": 39,
      "outputs": []
    },
    {
      "cell_type": "code",
      "metadata": {
        "id": "vyRJm7wizbdw"
      },
      "source": [
        "#Converting vector to matrix\n",
        "autoencoder_images = autoencoder_output_vector.reshape((autoencoder_output_vector.shape[0],28,28))"
      ],
      "execution_count": 40,
      "outputs": []
    },
    {
      "cell_type": "code",
      "metadata": {
        "colab": {
          "base_uri": "https://localhost:8080/",
          "height": 268
        },
        "id": "l8iEp1V32uDw",
        "outputId": "1eb86250-eb5e-44f9-c7fb-6f35d015cf54"
      },
      "source": [
        "#Plotting these images\n",
        "num_images_to_show = 5\n",
        "for im_ind in range(num_images_to_show):\n",
        "    plot_ind = im_ind*2 + 1\n",
        "    rand_ind = np.random.randint(low=0, high=x_train.shape[0])\n",
        "    matplotlib.pyplot.subplot(num_images_to_show, 2, plot_ind)\n",
        "    matplotlib.pyplot.imshow(x_train_orig[rand_ind, :, :], cmap=\"gray\")\n",
        "    matplotlib.pyplot.subplot(num_images_to_show, 2, plot_ind+1)\n",
        "    matplotlib.pyplot.imshow(autoencoder_images[rand_ind, :, :], cmap=\"gray\")"
      ],
      "execution_count": 41,
      "outputs": [
        {
          "output_type": "display_data",
          "data": {
            "image/png": "[encoded data removed]",
            "text/plain": [
              "<Figure size 432x288 with 10 Axes>"
            ]
          },
          "metadata": {
            "tags": [],
            "needs_background": "light"
          }
        }
      ]
    }
  ]
}